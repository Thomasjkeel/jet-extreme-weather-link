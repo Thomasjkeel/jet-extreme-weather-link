{
 "cells": [
  {
   "cell_type": "code",
   "execution_count": 1,
   "id": "8cf16762-a186-4cb2-bfa6-34bea177615e",
   "metadata": {},
   "outputs": [],
   "source": [
    "## TODO remove uneccessary \n",
    "import datetime\n",
    "import glob\n",
    "import os\n",
    "import statistics\n",
    "import xarray as xr\n",
    "import numpy as np\n",
    "import pandas as pd\n",
    "import cartopy.crs as ccrs\n",
    "import matplotlib.pyplot as plt\n",
    "import scipy.stats\n",
    "import seaborn as sns\n",
    "import pymannkendall\n",
    "import eofs.xarray\n",
    "import sklearn.cluster\n",
    "import sklearn.metrics\n",
    "\n",
    "import regionmask\n",
    "\n",
    "import jsmetrics\n",
    "from global_land_mask import globe"
   ]
  },
  {
   "cell_type": "markdown",
   "id": "3f815506-b2a3-4293-b47e-87d9f1ff4d06",
   "metadata": {},
   "source": [
    "## load jet stat data"
   ]
  },
  {
   "cell_type": "code",
   "execution_count": 2,
   "id": "b0436ee4-a19d-489b-9738-012f4920ba78",
   "metadata": {},
   "outputs": [],
   "source": [
    "ALL_CODES = ['no outbreak', 'E', 'C', 'W', 'CE', 'WC', 'WE', 'WCE']"
   ]
  },
  {
   "cell_type": "code",
   "execution_count": 3,
   "id": "590a0844-57a6-47ad-bf35-df59e2d56abd",
   "metadata": {},
   "outputs": [],
   "source": [
    "one_jet_stat = \"Zappa et al. 2018\""
   ]
  },
  {
   "cell_type": "code",
   "execution_count": 4,
   "id": "129d59b3-95bf-4f8b-b68b-1f9ddfa0c870",
   "metadata": {},
   "outputs": [],
   "source": [
    "NPac_path = '../data/jet_stream/jet-latitude-era5-standard-region-runs/*Pac.csv'# use your path\n",
    "NAtl_path = '../data/jet_stream/jet-latitude-era5-standard-region-runs/*NAtl.csv'# use your path\n",
    "NAm_path = '../data/jet_stream/jet-latitude-era5-standard-region-runs/*NAm.csv'# use your path\n",
    "onejetlat_path = f'../data/jet_stream/jet-latitude-era5-standard-region-runs/{one_jet_stat}*.csv'# use your path\n",
    "onejetspeed_path = f'../data/jet_stream/jet-speed-era5-standard-region-runs/{one_jet_stat}*.csv'# use your pa"
   ]
  },
  {
   "cell_type": "code",
   "execution_count": 5,
   "id": "35c92cd9-0cc9-4518-9954-6887bb9b32f1",
   "metadata": {},
   "outputs": [],
   "source": [
    "NPac_files = glob.glob(os.path.join(NPac_path))\n",
    "NAtl_files = glob.glob(os.path.join(NAtl_path))\n",
    "NAm_files = glob.glob(os.path.join(NAm_path))\n",
    "onejetlat_files = glob.glob(os.path.join(onejetlat_path))\n",
    "onejetspd_files = glob.glob(os.path.join(onejetspeed_path))"
   ]
  },
  {
   "cell_type": "code",
   "execution_count": 6,
   "id": "7ea80227-7d09-4d9f-950b-8063856ed3e4",
   "metadata": {},
   "outputs": [],
   "source": [
    "def read_in_data_to_df(filepaths, region_col=True):\n",
    "    file_ls = []\n",
    "    for filename in filepaths:\n",
    "        df = pd.read_csv(filename, index_col='time', header=0)\n",
    "        metric_name = filename.split('/')[-1].split('Standard')[0].strip()\n",
    "        region_name = filename.split('Standard')[1].split('.csv')[0].strip()\n",
    "        if region_col:\n",
    "            col_name = region_name\n",
    "        else:\n",
    "            col_name = metric_name\n",
    "        df.columns = [col_name]\n",
    "        file_ls.append(df)\n",
    "    all_df = pd.concat(file_ls, axis=1, ignore_index=False)\n",
    "    return all_df"
   ]
  },
  {
   "cell_type": "code",
   "execution_count": 7,
   "id": "02730970-6657-4b8d-af28-6ec68482e8f6",
   "metadata": {},
   "outputs": [],
   "source": [
    "all_jetlat_df = read_in_data_to_df(onejetlat_files)\n",
    "all_jetlat_df = all_jetlat_df[[\"NPac\", \"NAm\", \"NAtl\"]]"
   ]
  },
  {
   "cell_type": "code",
   "execution_count": 8,
   "id": "31300d15-a7a0-4211-9504-ba6e036f203e",
   "metadata": {},
   "outputs": [],
   "source": [
    "all_jetspd_df = read_in_data_to_df(onejetspd_files)\n",
    "all_jetspd_df = all_jetspd_df[[\"NPac\", \"NAm\", \"NAtl\"]]"
   ]
  },
  {
   "cell_type": "code",
   "execution_count": 9,
   "id": "89e0cef3-3ed2-4d56-9179-eb634fbf9395",
   "metadata": {},
   "outputs": [],
   "source": [
    "npac_df = read_in_data_to_df(NPac_files, region_col=False)\n",
    "nam_df = read_in_data_to_df(NAm_files, region_col=False)\n",
    "natl_df = read_in_data_to_df(NAtl_files, region_col=False)"
   ]
  },
  {
   "cell_type": "code",
   "execution_count": 10,
   "id": "53642b5b-caa1-4f06-ae8b-0209605f0bf8",
   "metadata": {},
   "outputs": [],
   "source": [
    "all_jetlat_df = all_jetlat_df[\"1950\":]\n",
    "all_jetspd_df = all_jetspd_df[\"1950\":]"
   ]
  },
  {
   "cell_type": "code",
   "execution_count": 11,
   "id": "98050b35-700a-42c1-ba4e-9fb1f8193461",
   "metadata": {},
   "outputs": [],
   "source": [
    "all_jetlat_df.index = pd.to_datetime(all_jetlat_df.index)\n",
    "djf_jetlat_df = all_jetlat_df[all_jetlat_df.index.month.isin([12, 1, 2])]"
   ]
  },
  {
   "cell_type": "code",
   "execution_count": 12,
   "id": "bb6e6ddc-25e1-4f09-891f-fccd43b5e2a4",
   "metadata": {},
   "outputs": [],
   "source": [
    "all_jetspd_df.index = pd.to_datetime(all_jetspd_df.index)\n",
    "djf_jetspd_df = all_jetspd_df[all_jetspd_df.index.month.isin([12, 1, 2])]"
   ]
  },
  {
   "cell_type": "code",
   "execution_count": 13,
   "id": "5b7510e3-63dc-4ad0-a69f-120b69be2369",
   "metadata": {},
   "outputs": [
    {
     "data": {
      "text/html": [
       "<div>\n",
       "<style scoped>\n",
       "    .dataframe tbody tr th:only-of-type {\n",
       "        vertical-align: middle;\n",
       "    }\n",
       "\n",
       "    .dataframe tbody tr th {\n",
       "        vertical-align: top;\n",
       "    }\n",
       "\n",
       "    .dataframe thead th {\n",
       "        text-align: right;\n",
       "    }\n",
       "</style>\n",
       "<table border=\"1\" class=\"dataframe\">\n",
       "  <thead>\n",
       "    <tr style=\"text-align: right;\">\n",
       "      <th></th>\n",
       "      <th>NPac</th>\n",
       "      <th>NAm</th>\n",
       "      <th>NAtl</th>\n",
       "    </tr>\n",
       "    <tr>\n",
       "      <th>time</th>\n",
       "      <th></th>\n",
       "      <th></th>\n",
       "      <th></th>\n",
       "    </tr>\n",
       "  </thead>\n",
       "  <tbody>\n",
       "    <tr>\n",
       "      <th>1950-01-01</th>\n",
       "      <td>38.746817</td>\n",
       "      <td>50.256510</td>\n",
       "      <td>53.214878</td>\n",
       "    </tr>\n",
       "    <tr>\n",
       "      <th>1950-01-02</th>\n",
       "      <td>40.242403</td>\n",
       "      <td>48.409350</td>\n",
       "      <td>55.125693</td>\n",
       "    </tr>\n",
       "    <tr>\n",
       "      <th>1950-01-03</th>\n",
       "      <td>48.143827</td>\n",
       "      <td>46.086131</td>\n",
       "      <td>53.095374</td>\n",
       "    </tr>\n",
       "    <tr>\n",
       "      <th>1950-01-04</th>\n",
       "      <td>45.193884</td>\n",
       "      <td>42.247687</td>\n",
       "      <td>52.901151</td>\n",
       "    </tr>\n",
       "    <tr>\n",
       "      <th>1950-01-05</th>\n",
       "      <td>41.386229</td>\n",
       "      <td>45.269153</td>\n",
       "      <td>49.172188</td>\n",
       "    </tr>\n",
       "  </tbody>\n",
       "</table>\n",
       "</div>"
      ],
      "text/plain": [
       "                 NPac        NAm       NAtl\n",
       "time                                       \n",
       "1950-01-01  38.746817  50.256510  53.214878\n",
       "1950-01-02  40.242403  48.409350  55.125693\n",
       "1950-01-03  48.143827  46.086131  53.095374\n",
       "1950-01-04  45.193884  42.247687  52.901151\n",
       "1950-01-05  41.386229  45.269153  49.172188"
      ]
     },
     "execution_count": 13,
     "metadata": {},
     "output_type": "execute_result"
    }
   ],
   "source": [
    "all_jetlat_df.head()"
   ]
  },
  {
   "cell_type": "markdown",
   "id": "891ed3b9-0c33-4df1-aafe-bab90b59521b",
   "metadata": {},
   "source": [
    "# load extreme ('persistent') cold data"
   ]
  },
  {
   "cell_type": "code",
   "execution_count": 14,
   "id": "24045a55-0033-4b06-8455-c6fd73ff6fbf",
   "metadata": {},
   "outputs": [],
   "source": [
    "extreme_cold_persist_thresh = xr.open_dataset('/home/thomaskeel/Dev/Research Projects/jet-extreme-weather-linkage/input_preparation/outputs/ar6_3daypersist_extreme_cold_detrend_95thpercthresh_q01.nc')"
   ]
  },
  {
   "cell_type": "markdown",
   "id": "4a721502-0985-4f88-9031-eda94c4eaf8b",
   "metadata": {},
   "source": [
    "# get k06 anom"
   ]
  },
  {
   "cell_type": "code",
   "execution_count": 15,
   "id": "d1a4faba-bc7d-4460-88a7-4478151e6cd1",
   "metadata": {},
   "outputs": [],
   "source": [
    "k06 = xr.open_mfdataset('/home/thomaskeel/Dev/Research Projects/jet-extreme-weather-linkage/data/jet_stream/koch_era5_*100to400*.nc') # before: "
   ]
  },
  {
   "cell_type": "code",
   "execution_count": 16,
   "id": "a7230646-c55a-4f6b-83e6-c4d17f4989fb",
   "metadata": {},
   "outputs": [],
   "source": [
    "KOCH_WS_MONTH_MEAN = k06['weighted_average_ws'].groupby('time.month').mean('time')"
   ]
  },
  {
   "cell_type": "code",
   "execution_count": 17,
   "id": "5ebceb65-1a36-4cc5-b3b6-357433dd4cb7",
   "metadata": {},
   "outputs": [],
   "source": [
    "def get_month_anom(row):\n",
    "    row_month_anom = row - KOCH_WS_MONTH_MEAN.sel(month=row.time.dt.month)\n",
    "    return row_month_anom\n"
   ]
  },
  {
   "cell_type": "code",
   "execution_count": 18,
   "id": "b14ba32d-f082-4a43-8508-cde5d5a29d76",
   "metadata": {},
   "outputs": [
    {
     "name": "stdout",
     "output_type": "stream",
     "text": [
      "loading norm data\n",
      "CPU times: user 5.62 ms, sys: 3.98 ms, total: 9.6 ms\n",
      "Wall time: 11.1 ms\n"
     ]
    }
   ],
   "source": [
    "%%time\n",
    "if os.path.exists('/home/thomaskeel/Dev/Research Projects/jet-extreme-weather-linkage/data/jet_stream/koch_era5_jet_events_norm_40to23Mar_upperlevs.nc'):\n",
    "    print('loading norm data')\n",
    "    k06['jet_events_ws_norm'] = xr.open_dataarray('/home/thomaskeel/Dev/Research Projects/jet-extreme-weather-linkage/data/jet_stream/koch_era5_jet_events_norm_40to23Mar_upperlevs.nc')\n",
    "else:\n",
    "    print('making norm data')\n",
    "    k06['jet_events_ws_norm'] = k06['weighted_average_ws'].groupby('time').apply(get_month_anom)\n",
    "    k06['jet_events_ws_norm'].to_netcdf('/home/thomaskeel/Dev/Research Projects/jet-extreme-weather-linkage/data/jet_stream/koch_era5_jet_events_norm_40to23Mar_upperlevs.nc')"
   ]
  },
  {
   "cell_type": "markdown",
   "id": "e63846ad-31ad-49fe-9dcb-ca67be768e58",
   "metadata": {
    "tags": []
   },
   "source": [
    "# Load climate indices"
   ]
  },
  {
   "cell_type": "code",
   "execution_count": 19,
   "id": "7c70df74-91d5-42e8-b0bd-18fbaf418a3d",
   "metadata": {},
   "outputs": [],
   "source": [
    "ao_index = pd.read_csv('../data/climate_indices/norm.daily.ao.cdas.z1000.19500101_current.csv')\n",
    "ao_index['time'] = pd.to_datetime(ao_index[['year', 'month', 'day']])\n",
    "ao_index = ao_index.set_index('time')\n",
    "ao_index = ao_index.drop(['year', 'month', 'day'], axis=1)"
   ]
  },
  {
   "cell_type": "code",
   "execution_count": 20,
   "id": "fd1dcf7a-116b-4c9a-a9de-6ad094983dc4",
   "metadata": {},
   "outputs": [],
   "source": [
    "nao_index = pd.read_csv('../data/climate_indices/norm.daily.nao.cdas.z500.19500101_current.csv')\n",
    "nao_index['time'] = pd.to_datetime(nao_index[['year', 'month', 'day']])\n",
    "nao_index = nao_index.set_index('time')\n",
    "nao_index = nao_index.drop(['year', 'month', 'day'], axis=1)"
   ]
  },
  {
   "cell_type": "code",
   "execution_count": 21,
   "id": "434ce6f5-f17a-46ae-9a68-ffc7e8f88faa",
   "metadata": {},
   "outputs": [],
   "source": [
    "pna_index = pd.read_csv('../data/climate_indices/norm.daily.pna.cdas.z500.19500101_current.csv')\n",
    "pna_index['time'] = pd.to_datetime(pna_index[['year', 'month', 'day']])\n",
    "pna_index = pna_index.set_index('time')\n",
    "pna_index = pna_index.drop(['year', 'month', 'day'], axis=1)"
   ]
  },
  {
   "cell_type": "code",
   "execution_count": 22,
   "id": "8d666c20-f24d-468c-a416-c39581cebcdd",
   "metadata": {},
   "outputs": [
    {
     "name": "stderr",
     "output_type": "stream",
     "text": [
      "/tmp/ipykernel_25436/1669365782.py:1: ParserWarning: Falling back to the 'python' engine because the 'c' engine does not support skipfooter; you can avoid this warning by specifying engine='python'.\n",
      "  enso = pd.read_csv('../data/climate_indices/oni.tsv', delimiter='\\t', skipfooter=9)\n",
      "/tmp/ipykernel_25436/1669365782.py:5: UserWarning: Could not infer format, so each element will be parsed individually, falling back to `dateutil`. To ensure parsing is consistent and as-expected, please specify a format.\n",
      "  enso['time'] = pd.to_datetime(enso['Date'] + enso['year'])\n"
     ]
    }
   ],
   "source": [
    "enso = pd.read_csv('../data/climate_indices/oni.tsv', delimiter='\\t', skipfooter=9)\n",
    "enso = enso[' 1950         2024'].apply(lambda row: row.split('  ')).apply(pd.Series)\n",
    "enso.columns = ['year', 'Jan', 'Feb', 'Mar', 'Apr', 'May', 'Jun', 'Jul', 'Aug', 'Sep', 'Oct', 'Nov', 'Dec']\n",
    "enso = pd.melt(enso, id_vars=[\"year\"], var_name=\"Date\", value_name=\"ENSO\")\n",
    "enso['time'] = pd.to_datetime(enso['Date'] + enso['year'])\n",
    "enso = enso.drop(columns=['year', 'Date'])\n",
    "enso = enso.set_index('time')\n",
    "enso = enso.astype(float)"
   ]
  },
  {
   "cell_type": "code",
   "execution_count": 23,
   "id": "6b5612c7-6bee-4cfd-8fdb-69e26e1b906f",
   "metadata": {},
   "outputs": [
    {
     "name": "stderr",
     "output_type": "stream",
     "text": [
      "/tmp/ipykernel_25436/294705654.py:1: FutureWarning: The 'delim_whitespace' keyword in pd.read_csv is deprecated and will be removed in a future version. Use ``sep='\\s+'`` instead\n",
      "  wpo_index = pd.read_csv('../data/climate_indices/wpo.reanalysis.t10trunc.1948-present.csv',delim_whitespace=True, header=None)\n"
     ]
    }
   ],
   "source": [
    "wpo_index = pd.read_csv('../data/climate_indices/wpo.reanalysis.t10trunc.1948-present.csv',delim_whitespace=True, header=None)\n",
    "wpo_index.columns = ['year', 'month', 'day', 'WPO']\n",
    "wpo_index['time'] = pd.to_datetime(wpo_index[['year', 'month', 'day']])\n",
    "wpo_index = wpo_index.set_index('time')\n",
    "wpo_index = wpo_index.drop(['year', 'month', 'day'], axis=1)"
   ]
  },
  {
   "cell_type": "code",
   "execution_count": 24,
   "id": "f7306180-de70-4f45-915f-2db57c1dae9f",
   "metadata": {},
   "outputs": [],
   "source": [
    "wpo_index[r'WPO ($\\times10^{-3}$)'] = wpo_index['WPO'] / 100"
   ]
  },
  {
   "cell_type": "code",
   "execution_count": 25,
   "id": "10bf6ba5-93da-48b0-8949-22354457977f",
   "metadata": {},
   "outputs": [],
   "source": [
    "clim_indices = pd.concat([ao_index, nao_index, pna_index, wpo_index, enso], axis=1)"
   ]
  },
  {
   "cell_type": "code",
   "execution_count": 26,
   "id": "cab8ae2e-4b59-4fc1-a502-22501f6e7fa9",
   "metadata": {},
   "outputs": [],
   "source": [
    "clim_indices['ENSO'] = clim_indices['ENSO'].interpolate()"
   ]
  },
  {
   "cell_type": "code",
   "execution_count": 27,
   "id": "31d6fa61-d1a1-4e8f-8037-c228a8f48203",
   "metadata": {},
   "outputs": [],
   "source": [
    "clim_indices = clim_indices.rename(columns={'ao_index_cdas': 'AO',\\\n",
    "                             'nao_index_cdas': 'NAO',\\\n",
    "                             'pna_index_cdas': 'PNA'})"
   ]
  },
  {
   "cell_type": "code",
   "execution_count": 28,
   "id": "98e6c1e5-2182-46fa-92b4-e6928f6187d6",
   "metadata": {},
   "outputs": [
    {
     "data": {
      "text/plain": [
       "AO                       -1.542188\n",
       "NAO                      -0.789364\n",
       "PNA                      -0.798501\n",
       "WPO                     -85.236542\n",
       "WPO ($\\times10^{-3}$)    -0.852365\n",
       "ENSO                     -0.802808\n",
       "dtype: float64"
      ]
     },
     "execution_count": 28,
     "metadata": {},
     "output_type": "execute_result"
    }
   ],
   "source": [
    "clim_indices.mean() - clim_indices.std()"
   ]
  },
  {
   "cell_type": "code",
   "execution_count": 29,
   "id": "a3f6966d-5c19-4571-af0e-a8117f42a1cd",
   "metadata": {},
   "outputs": [],
   "source": [
    "pmn_below_1sd = clim_indices['PNA'] < (clim_indices.mean()['PNA'] - clim_indices.std()['PNA'])"
   ]
  },
  {
   "cell_type": "code",
   "execution_count": 30,
   "id": "355ce479-9c85-43bd-a739-962ab0ebf71a",
   "metadata": {},
   "outputs": [],
   "source": [
    "dates_below_1sd = pmn_below_1sd.where(lambda row: row).dropna().index"
   ]
  },
  {
   "cell_type": "markdown",
   "id": "74b26420-6348-40f1-b8ca-054c8dbf6636",
   "metadata": {},
   "source": [
    "# Make plot"
   ]
  },
  {
   "cell_type": "code",
   "execution_count": 31,
   "id": "078c2d7c-b342-4ada-bb33-51fd71d14106",
   "metadata": {},
   "outputs": [],
   "source": [
    "djf_cao_names = extreme_cold_persist_thresh['cold_air_event_stacked_names'].sel(time=extreme_cold_persist_thresh.time.dt.month.isin([12, 1, 2]))"
   ]
  },
  {
   "cell_type": "code",
   "execution_count": 32,
   "id": "ae56dc1d-be60-413e-9e53-dc3af0ccdfff",
   "metadata": {},
   "outputs": [],
   "source": [
    "djf_cao_names = djf_cao_names.astype(str)"
   ]
  },
  {
   "cell_type": "code",
   "execution_count": 33,
   "id": "12b64636-5e96-4861-b787-972b0b0dd4d7",
   "metadata": {
    "tags": []
   },
   "outputs": [],
   "source": [
    "npac_df_djf = npac_df\n",
    "nam_df_djf = nam_df\n",
    "natl_df_djf = natl_df"
   ]
  },
  {
   "cell_type": "code",
   "execution_count": 34,
   "id": "cda0258d-79d8-458a-8ec2-0658cbe2f72c",
   "metadata": {},
   "outputs": [],
   "source": [
    "cao_code_names = {'000':'no outbreak', '001':'E', '011':'CE', '010':'C', '110':'WC', '100':'W', '101':'WE', '111':'WCE'}"
   ]
  },
  {
   "cell_type": "code",
   "execution_count": 35,
   "id": "b40448f9-2fd4-4f91-a992-8e01c0b43bb7",
   "metadata": {},
   "outputs": [],
   "source": [
    "npac_df_djf['coldairevent'] = djf_cao_names.to_dataframe()['cold_air_event_stacked_names'].apply(lambda row: cao_code_names[row])\n",
    "nam_df_djf['coldairevent'] = djf_cao_names.to_dataframe()['cold_air_event_stacked_names'].apply(lambda row: cao_code_names[row])\n",
    "natl_df_djf['coldairevent'] = djf_cao_names.to_dataframe()['cold_air_event_stacked_names'].apply(lambda row: cao_code_names[row])"
   ]
  },
  {
   "cell_type": "code",
   "execution_count": 36,
   "id": "00a0f4f8-1f50-48e9-b365-470aa51a70e4",
   "metadata": {},
   "outputs": [
    {
     "name": "stderr",
     "output_type": "stream",
     "text": [
      "/tmp/ipykernel_25436/1695150967.py:1: SettingWithCopyWarning: \n",
      "A value is trying to be set on a copy of a slice from a DataFrame.\n",
      "Try using .loc[row_indexer,col_indexer] = value instead\n",
      "\n",
      "See the caveats in the documentation: https://pandas.pydata.org/pandas-docs/stable/user_guide/indexing.html#returning-a-view-versus-a-copy\n",
      "  djf_jetlat_df['coldairevent'] = djf_cao_names.to_dataframe()['cold_air_event_stacked_names'].apply(lambda row: cao_code_names[row])\n",
      "/tmp/ipykernel_25436/1695150967.py:2: SettingWithCopyWarning: \n",
      "A value is trying to be set on a copy of a slice from a DataFrame.\n",
      "Try using .loc[row_indexer,col_indexer] = value instead\n",
      "\n",
      "See the caveats in the documentation: https://pandas.pydata.org/pandas-docs/stable/user_guide/indexing.html#returning-a-view-versus-a-copy\n",
      "  djf_jetspd_df['coldairevent'] = djf_cao_names.to_dataframe()['cold_air_event_stacked_names'].apply(lambda row: cao_code_names[row])\n"
     ]
    }
   ],
   "source": [
    "djf_jetlat_df['coldairevent'] = djf_cao_names.to_dataframe()['cold_air_event_stacked_names'].apply(lambda row: cao_code_names[row])\n",
    "djf_jetspd_df['coldairevent'] = djf_cao_names.to_dataframe()['cold_air_event_stacked_names'].apply(lambda row: cao_code_names[row])\n",
    "\n",
    "djf_jetlat_df = djf_jetlat_df.join(clim_indices)\n",
    "djf_jetspd_df = djf_jetspd_df.join(clim_indices)"
   ]
  },
  {
   "cell_type": "code",
   "execution_count": 37,
   "id": "1fffc56e-d935-4a1f-a2af-7ce322f53300",
   "metadata": {},
   "outputs": [],
   "source": [
    "djf_jetlat_df_melt = djf_jetlat_df.melt(id_vars=['coldairevent', 'NAO', 'PNA', 'ENSO'], value_vars=['NPac', 'NAm', 'NAtl'],\n",
    "                 var_name='Region', value_name='Latitude')\n",
    "\n",
    "djf_jetspd_df_melt = djf_jetspd_df.melt(id_vars=['coldairevent', 'NAO', 'PNA', 'ENSO'], value_vars=['NPac', 'NAm', 'NAtl'],\n",
    "                 var_name='Region', value_name='Latitude')\n"
   ]
  },
  {
   "cell_type": "code",
   "execution_count": 38,
   "id": "ecd23185-e440-4902-9adf-4fd510a64205",
   "metadata": {},
   "outputs": [
    {
     "data": {
      "text/plain": [
       "['no outbreak', 'E', 'C', 'W', 'CE', 'WC', 'WE', 'WCE']"
      ]
     },
     "execution_count": 38,
     "metadata": {},
     "output_type": "execute_result"
    }
   ],
   "source": [
    "ALL_CODES"
   ]
  },
  {
   "cell_type": "code",
   "execution_count": 40,
   "id": "e06b0e3e-c9fb-424a-ab1c-29f710290459",
   "metadata": {},
   "outputs": [
    {
     "name": "stdout",
     "output_type": "stream",
     "text": [
      "000 no outbreak TtestResult(statistic=0.0, pvalue=1.0, df=11636.0)\n",
      "000 E TtestResult(statistic=6.304884551846185, pvalue=9.602727964839953e-10, df=318.85293550872126)\n",
      "000 C TtestResult(statistic=1.9553206727184556, pvalue=0.052086804229950164, df=180.77517601299064)\n",
      "000 W TtestResult(statistic=-2.419543235468019, pvalue=0.016434584810070294, df=199.99294797550968)\n",
      "000 CE TtestResult(statistic=4.993618850877791, pvalue=6.295247456553927e-06, df=55.190415862535794)\n",
      "000 WC TtestResult(statistic=4.044932626947715, pvalue=9.544050455148688e-05, df=114.23350934059954)\n",
      "000 WE TtestResult(statistic=nan, pvalue=nan, df=nan)\n",
      "000 WCE TtestResult(statistic=3.660525162486724, pvalue=0.007990811039921367, df=7.036980938477493)\n"
     ]
    },
    {
     "name": "stderr",
     "output_type": "stream",
     "text": [
      "/tmp/ipykernel_25436/3917703782.py:10: SmallSampleWarning: One or more sample arguments is too small; all returned values will be NaN. See documentation for sample size requirements.\n",
      "  print('000', code, scipy.stats.ttest_ind(one_code,another_code, equal_var=False))\n"
     ]
    }
   ],
   "source": [
    "## DJF only 010 is not different\n",
    "## MAM only 110 is not different\n",
    "## JJA only 001 different\n",
    "## SON all different\n",
    "\n",
    "\n",
    "one_code = djf_jetlat_df.loc[djf_jetlat_df['coldairevent'] == 'no outbreak']['NPac'].dropna()\n",
    "for code in ALL_CODES:\n",
    "    another_code = djf_jetlat_df.loc[djf_jetlat_df['coldairevent'] == code]['NPac'].dropna()\n",
    "    print('000', code, scipy.stats.ttest_ind(one_code,another_code, equal_var=False))\n",
    "        "
   ]
  },
  {
   "cell_type": "code",
   "execution_count": 41,
   "id": "cb0399ac-cdd3-4299-b5ed-e7438b5f9049",
   "metadata": {},
   "outputs": [],
   "source": [
    "djf_onlyoneevent_oceanjetlat = djf_jetlat_df_melt.loc[~(djf_jetlat_df_melt['Region'] == 'NAm') &\\\n",
    "                      (djf_jetlat_df_melt['coldairevent'].isin(['no outbreak', 'E',\\\n",
    "                                                              'C', 'W']))]"
   ]
  },
  {
   "cell_type": "code",
   "execution_count": 42,
   "id": "941dc26e-08ef-4c63-895c-dcd52db91ed7",
   "metadata": {},
   "outputs": [],
   "source": [
    "djf_onlyoneevent_oceanjetspeed = djf_jetspd_df_melt.loc[~(djf_jetspd_df_melt['Region'] == 'NAm') &\\\n",
    "                      (djf_jetspd_df_melt['coldairevent'].isin(['no outbreak', 'E',\\\n",
    "                                                              'C', 'W']))]"
   ]
  },
  {
   "cell_type": "code",
   "execution_count": 43,
   "id": "eccc906d-cf8b-4e52-85f4-ff9c3c96a586",
   "metadata": {},
   "outputs": [],
   "source": [
    "djf_indices_melt = djf_jetlat_df.reset_index().melt(id_vars=['coldairevent'], value_vars=['NAO', 'PNA', 'ENSO'],\n",
    "                 var_name='Indices', value_name='Value')"
   ]
  },
  {
   "cell_type": "code",
   "execution_count": 44,
   "id": "72a27ed0-6ef2-4a5f-80ec-7d0eaed3cb0f",
   "metadata": {},
   "outputs": [],
   "source": [
    "djf_indices_melt_oneevent = djf_indices_melt.loc[djf_indices_melt['coldairevent'].isin(['no outbreak', 'E',\\\n",
    "                                                              'C', 'W'])]\n"
   ]
  },
  {
   "cell_type": "code",
   "execution_count": 45,
   "id": "6f34ec60-3017-4951-a061-c17ebcfb8fbd",
   "metadata": {},
   "outputs": [
    {
     "data": {
      "text/html": [
       "<svg  width=\"385\" height=\"55\"><rect x=\"0\" y=\"0\" width=\"55\" height=\"55\" style=\"fill:#66c2a5;stroke-width:2;stroke:rgb(255,255,255)\"/><rect x=\"55\" y=\"0\" width=\"55\" height=\"55\" style=\"fill:#fc8d62;stroke-width:2;stroke:rgb(255,255,255)\"/><rect x=\"110\" y=\"0\" width=\"55\" height=\"55\" style=\"fill:#8da0cb;stroke-width:2;stroke:rgb(255,255,255)\"/><rect x=\"165\" y=\"0\" width=\"55\" height=\"55\" style=\"fill:#e78ac3;stroke-width:2;stroke:rgb(255,255,255)\"/><rect x=\"220\" y=\"0\" width=\"55\" height=\"55\" style=\"fill:#a6d854;stroke-width:2;stroke:rgb(255,255,255)\"/><rect x=\"275\" y=\"0\" width=\"55\" height=\"55\" style=\"fill:#ffd92f;stroke-width:2;stroke:rgb(255,255,255)\"/><rect x=\"330\" y=\"0\" width=\"55\" height=\"55\" style=\"fill:#e5c494;stroke-width:2;stroke:rgb(255,255,255)\"/></svg>"
      ],
      "text/plain": [
       "[(0.4, 0.7607843137254902, 0.6470588235294118),\n",
       " (0.9882352941176471, 0.5529411764705883, 0.3843137254901961),\n",
       " (0.5529411764705883, 0.6274509803921569, 0.796078431372549),\n",
       " (0.9058823529411765, 0.5411764705882353, 0.7647058823529411),\n",
       " (0.6509803921568628, 0.8470588235294118, 0.32941176470588235),\n",
       " (1.0, 0.8509803921568627, 0.1843137254901961),\n",
       " (0.8980392156862745, 0.7686274509803922, 0.5803921568627451)]"
      ]
     },
     "execution_count": 45,
     "metadata": {},
     "output_type": "execute_result"
    }
   ],
   "source": [
    "sns.color_palette(\"Set2\", 7)"
   ]
  },
  {
   "cell_type": "code",
   "execution_count": 46,
   "id": "2c3d3495-1ebf-4219-afd4-7fa8bdab05b6",
   "metadata": {},
   "outputs": [],
   "source": [
    "color_pallete_to_use = ['#D3D3D3']\n",
    "color_pallete_to_use.extend(sns.color_palette(\"Set2\", 7)[1:5])\n",
    "color_pallete_to_use.extend(sns.color_palette(\"Set2\", 7)[0:1])\n",
    "color_pallete_to_use.extend(sns.color_palette(\"Set2\", 7)[6:7])"
   ]
  },
  {
   "cell_type": "code",
   "execution_count": 47,
   "id": "880e1175-6a86-44c6-9f74-538089a8ecde",
   "metadata": {},
   "outputs": [
    {
     "data": {
      "text/plain": [
       "['#D3D3D3',\n",
       " (0.9882352941176471, 0.5529411764705883, 0.3843137254901961),\n",
       " (0.5529411764705883, 0.6274509803921569, 0.796078431372549),\n",
       " (0.9058823529411765, 0.5411764705882353, 0.7647058823529411),\n",
       " (0.6509803921568628, 0.8470588235294118, 0.32941176470588235),\n",
       " (0.4, 0.7607843137254902, 0.6470588235294118),\n",
       " (0.8980392156862745, 0.7686274509803922, 0.5803921568627451)]"
      ]
     },
     "execution_count": 47,
     "metadata": {},
     "output_type": "execute_result"
    }
   ],
   "source": [
    "color_pallete_to_use"
   ]
  },
  {
   "cell_type": "code",
   "execution_count": 48,
   "id": "22702552-9544-4b9c-b477-45415d69708e",
   "metadata": {},
   "outputs": [],
   "source": [
    "NUM_DAYS_BREAK = 1\n",
    "\n",
    "def cluster_datetimes(dates):\n",
    "    clusters = []\n",
    "    current_cluster = [dates[0].data]\n",
    "    \n",
    "    for i in range(1, len(dates)):\n",
    "        if pd.to_timedelta(int(dates[i] - dates[i - 1])).days > NUM_DAYS_BREAK:\n",
    "            # Start a new cluster\n",
    "            clusters.append(current_cluster)\n",
    "            current_cluster = [dates[i].data]\n",
    "        else:\n",
    "            # Add to the current cluster\n",
    "            current_cluster.append(dates[i].data)\n",
    "    \n",
    "    # Add the last cluster\n",
    "    clusters.append(current_cluster)\n",
    "    \n",
    "    return clusters\n",
    "\n",
    "\n",
    "def cluster_count(data, season='annual'):\n",
    "    clustered_count = {}\n",
    "    if season != 'annual':\n",
    "        data = data.sel(time=data.time.dt.season.isin([season]))\n",
    "    for event_code in np.unique(data['cold_air_event_stacked_names'].data):\n",
    "        onetype_coldair_event = data.where((data['cold_air_event_stacked_names'] == event_code)\\\n",
    "                                                    ).dropna(dim='time')\n",
    "        clustered_count[cao_code_names[event_code]] = len(cluster_datetimes(onetype_coldair_event.time))\n",
    "    return clustered_count"
   ]
  },
  {
   "cell_type": "code",
   "execution_count": 49,
   "id": "f6adf6bf-9a80-4b43-86ae-fee38ea90812",
   "metadata": {},
   "outputs": [
    {
     "name": "stdout",
     "output_type": "stream",
     "text": [
      "CPU times: user 21.3 s, sys: 439 ms, total: 21.8 s\n",
      "Wall time: 21.8 s\n"
     ]
    }
   ],
   "source": [
    "%%time\n",
    "clustered_count_djf = cluster_count(extreme_cold_persist_thresh.sel(time=slice(\"1950\", \"2023-03\")), season='DJF')"
   ]
  },
  {
   "cell_type": "markdown",
   "id": "33f92fd3-2f98-49f4-a70b-731ca67fe4c2",
   "metadata": {},
   "source": [
    "### EOF"
   ]
  },
  {
   "cell_type": "code",
   "execution_count": 50,
   "id": "842c1411-b507-415a-8f52-6acc692766cf",
   "metadata": {},
   "outputs": [],
   "source": [
    "def create_data_flat_for_jetcode(coldairevent_code_to_lookat,  var_to_use='weighted_average_ws', n_clusters=4, lon_range=slice(120, 230), lat_range=slice(20, 70)):\n",
    "    onetype_coldair_event = extreme_cold_persist_thresh.where((extreme_cold_persist_thresh['cold_air_event_stacked_names'] == coldairevent_code_to_lookat)\\\n",
    "                                            ).dropna(dim='time')\n",
    "    onetype_coldair_event = onetype_coldair_event.sel(time=onetype_coldair_event.time.dt.season.isin(['DJF']))\n",
    "    cold_air_event_dateclusters = cluster_datetimes(onetype_coldair_event.time)\n",
    "    k06_my_persist = k06.sel(time=onetype_coldair_event.time.data)\n",
    "    # with weighting\n",
    "    for ind, dt_cluster in enumerate(cold_air_event_dateclusters):\n",
    "        if ind == 0:\n",
    "            k06_my_persist_weighted = k06_my_persist.sel(time=dt_cluster).mean('time')\n",
    "        else:\n",
    "            k06_my_persist_weighted = xr.concat([k06_my_persist_weighted, k06_my_persist.sel(time=dt_cluster).mean('time')], dim='time')\n",
    "    k06_my_persist_mean_weighted = k06_my_persist_weighted.mean('time')\n",
    "    k06_my_persist['jet_events_ws_norm'].load()\n",
    "    k06_my_persist = k06_my_persist.sel(lat=lat_range, lon=lon_range)\n",
    "    data_flat = k06_my_persist[var_to_use].stack(spatial=('lat', 'lon')).values  # Shape (time, spatial)\n",
    "    \n",
    "    kmeans = sklearn.cluster.KMeans(n_clusters=n_clusters, random_state=0, n_init=\"auto\").fit(data_flat)\n",
    "    return kmeans, data_flat, k06_my_persist\n"
   ]
  },
  {
   "cell_type": "code",
   "execution_count": 51,
   "id": "1cc9fe5c-8803-4051-ba28-3ff008beefed",
   "metadata": {},
   "outputs": [],
   "source": [
    "var_to_use = 'jet_events_ws_norm'\n",
    "n_clusters = 4\n",
    "lon_range=slice(120, 240)\n",
    "lat_range=slice(15, 70)"
   ]
  },
  {
   "cell_type": "code",
   "execution_count": 52,
   "id": "e8887e8b-5b08-4f0c-81d5-077ede9f9a98",
   "metadata": {},
   "outputs": [
    {
     "name": "stdout",
     "output_type": "stream",
     "text": [
      "CPU times: user 2.81 s, sys: 335 ms, total: 3.15 s\n",
      "Wall time: 2.38 s\n"
     ]
    }
   ],
   "source": [
    "%%time\n",
    "kmeans_001, data_flat_001, k06_my_persist_001 = create_data_flat_for_jetcode(coldairevent_code_to_lookat='001', var_to_use=var_to_use, n_clusters=n_clusters, lon_range=lon_range, lat_range=lat_range)\n"
   ]
  },
  {
   "cell_type": "code",
   "execution_count": 53,
   "id": "26393289-e042-4871-83a2-014cb9e96965",
   "metadata": {},
   "outputs": [],
   "source": [
    "coslat = np.cos(np.deg2rad(k06_my_persist_001.coords['lat'].values))\n",
    "wgts = np.sqrt(coslat)[..., np.newaxis]"
   ]
  },
  {
   "cell_type": "code",
   "execution_count": 54,
   "id": "b7600024-9c24-40a1-ba57-afa16e5ada6e",
   "metadata": {},
   "outputs": [],
   "source": [
    "k06_all_DJF = k06.sel(lon=slice(120, 240), lat=slice(15, 70)).sel(time=k06.time.dt.season.isin(['DJF']))"
   ]
  },
  {
   "cell_type": "code",
   "execution_count": 55,
   "id": "5ebcd474-a9d6-4257-91fa-f50629428f39",
   "metadata": {},
   "outputs": [
    {
     "name": "stdout",
     "output_type": "stream",
     "text": [
      "select 1950-2023\n"
     ]
    }
   ],
   "source": [
    "print('select 1950-2023')\n",
    "k06_all_DJF = k06_all_DJF.sel(time=slice(\"1950\", \"2023\"))"
   ]
  },
  {
   "cell_type": "code",
   "execution_count": 56,
   "id": "fe65d317-8224-4198-a45c-46e5923fc9fc",
   "metadata": {},
   "outputs": [
    {
     "name": "stdout",
     "output_type": "stream",
     "text": [
      "CPU times: user 23min 57s, sys: 2.34 s, total: 24min\n",
      "Wall time: 2min 11s\n"
     ]
    }
   ],
   "source": [
    "%%time\n",
    "jet_eof_all = eofs.xarray.Eof(k06_all_DJF[var_to_use], weights=wgts)\n"
   ]
  },
  {
   "cell_type": "code",
   "execution_count": 114,
   "id": "298d7640-4dcb-4827-bf60-680b3e37b5e1",
   "metadata": {},
   "outputs": [],
   "source": [
    "jet_varfrac_all = jet_eof_all.varianceFraction()\n",
    "jet_lambdas_all = jet_eof_all.eigenvalues()"
   ]
  },
  {
   "cell_type": "code",
   "execution_count": 115,
   "id": "697404b2-699c-43a9-abc0-4f80494abcb9",
   "metadata": {},
   "outputs": [],
   "source": [
    "jet_eof_vals = jet_eof_all.eofs(neofs=10)"
   ]
  },
  {
   "cell_type": "code",
   "execution_count": 128,
   "id": "db37b6da-9db2-488b-8b00-732dcdb52d61",
   "metadata": {
    "tags": []
   },
   "outputs": [],
   "source": [
    "pcs_all = jet_eof_all.pcs(pcscaling=1, npcs=2)\n"
   ]
  },
  {
   "cell_type": "code",
   "execution_count": 139,
   "id": "1e660956-ec99-4e13-893b-f4333c616468",
   "metadata": {},
   "outputs": [
    {
     "name": "stdout",
     "output_type": "stream",
     "text": [
      "mode 0 wrong way round\n",
      "mode 1 wrong way round\n"
     ]
    }
   ],
   "source": [
    "# # flip back so it looks like Winters et al. (2019) result\n",
    "\n",
    "if pcs_all.sel(mode=0)[0] > 0:\n",
    "    print('mode 0 wrong way round')\n",
    "    pcs_all = pcs_all.where((pcs_all.mode != 0), pcs_all.sel(mode=0)*-1)\n",
    "\n",
    "if pcs_all.sel(mode=1)[0] > 0:\n",
    "    print('mode 1 wrong way round')\n",
    "    pcs_all = pcs_all.where((pcs_all.mode != 1), pcs_all.sel(mode=1)*-1)"
   ]
  },
  {
   "cell_type": "code",
   "execution_count": 140,
   "id": "478013c9-9a57-4174-b142-ec0080825a8c",
   "metadata": {},
   "outputs": [],
   "source": [
    "pcs_all_df = pcs_all.to_dataframe()\n",
    "pcs_all_df = pcs_all_df.drop('month', axis=1)\n",
    "pcs_all_df = pcs_all_df.unstack()\n",
    "pcs_all_df = pcs_all_df['pcs']"
   ]
  },
  {
   "cell_type": "code",
   "execution_count": 141,
   "id": "7566ef50-ae44-4213-a4e8-307fcec6010b",
   "metadata": {},
   "outputs": [],
   "source": [
    "coldaircode_df = pd.DataFrame(extreme_cold_persist_thresh['cold_air_event_stacked_names'].to_dataframe().drop(['dayofyear', 'quantile'], axis=1)['cold_air_event_stacked_names'].apply(lambda row: cao_code_names[row]))\n"
   ]
  },
  {
   "cell_type": "code",
   "execution_count": 142,
   "id": "d333b6e8-39af-48c5-b541-c7d0b553fe8f",
   "metadata": {},
   "outputs": [],
   "source": [
    "coldaircode_pcs_df = coldaircode_df.merge(pcs_all_df, on='time')"
   ]
  },
  {
   "cell_type": "code",
   "execution_count": 143,
   "id": "4ea91cfe-b9df-4feb-804e-7a2c1737c3e4",
   "metadata": {},
   "outputs": [],
   "source": [
    "coldaircode_pcs_df = coldaircode_pcs_df.dropna(subset=[0])"
   ]
  },
  {
   "cell_type": "code",
   "execution_count": 144,
   "id": "f00a47d2-5b04-4512-9ab1-297d406eeeac",
   "metadata": {},
   "outputs": [
    {
     "data": {
      "text/html": [
       "<div>\n",
       "<style scoped>\n",
       "    .dataframe tbody tr th:only-of-type {\n",
       "        vertical-align: middle;\n",
       "    }\n",
       "\n",
       "    .dataframe tbody tr th {\n",
       "        vertical-align: top;\n",
       "    }\n",
       "\n",
       "    .dataframe thead th {\n",
       "        text-align: right;\n",
       "    }\n",
       "</style>\n",
       "<table border=\"1\" class=\"dataframe\">\n",
       "  <thead>\n",
       "    <tr style=\"text-align: right;\">\n",
       "      <th></th>\n",
       "      <th>cold_air_event_stacked_names</th>\n",
       "      <th>0</th>\n",
       "      <th>1</th>\n",
       "    </tr>\n",
       "    <tr>\n",
       "      <th>time</th>\n",
       "      <th></th>\n",
       "      <th></th>\n",
       "      <th></th>\n",
       "    </tr>\n",
       "  </thead>\n",
       "  <tbody>\n",
       "    <tr>\n",
       "      <th>1950-01-01</th>\n",
       "      <td>no outbreak</td>\n",
       "      <td>-1.394457</td>\n",
       "      <td>-0.150151</td>\n",
       "    </tr>\n",
       "    <tr>\n",
       "      <th>1950-01-02</th>\n",
       "      <td>no outbreak</td>\n",
       "      <td>-1.432673</td>\n",
       "      <td>-0.034429</td>\n",
       "    </tr>\n",
       "    <tr>\n",
       "      <th>1950-01-03</th>\n",
       "      <td>W</td>\n",
       "      <td>-2.061222</td>\n",
       "      <td>-0.139534</td>\n",
       "    </tr>\n",
       "    <tr>\n",
       "      <th>1950-01-04</th>\n",
       "      <td>WC</td>\n",
       "      <td>-2.294241</td>\n",
       "      <td>-0.536520</td>\n",
       "    </tr>\n",
       "    <tr>\n",
       "      <th>1950-01-05</th>\n",
       "      <td>W</td>\n",
       "      <td>-2.036551</td>\n",
       "      <td>-1.235070</td>\n",
       "    </tr>\n",
       "    <tr>\n",
       "      <th>...</th>\n",
       "      <td>...</td>\n",
       "      <td>...</td>\n",
       "      <td>...</td>\n",
       "    </tr>\n",
       "    <tr>\n",
       "      <th>2023-02-24</th>\n",
       "      <td>W</td>\n",
       "      <td>-2.043894</td>\n",
       "      <td>0.211574</td>\n",
       "    </tr>\n",
       "    <tr>\n",
       "      <th>2023-02-25</th>\n",
       "      <td>no outbreak</td>\n",
       "      <td>-2.624887</td>\n",
       "      <td>0.515274</td>\n",
       "    </tr>\n",
       "    <tr>\n",
       "      <th>2023-02-26</th>\n",
       "      <td>no outbreak</td>\n",
       "      <td>-2.539312</td>\n",
       "      <td>0.378019</td>\n",
       "    </tr>\n",
       "    <tr>\n",
       "      <th>2023-02-27</th>\n",
       "      <td>no outbreak</td>\n",
       "      <td>-2.169774</td>\n",
       "      <td>0.123714</td>\n",
       "    </tr>\n",
       "    <tr>\n",
       "      <th>2023-02-28</th>\n",
       "      <td>no outbreak</td>\n",
       "      <td>-2.264933</td>\n",
       "      <td>0.222891</td>\n",
       "    </tr>\n",
       "  </tbody>\n",
       "</table>\n",
       "<p>6647 rows × 3 columns</p>\n",
       "</div>"
      ],
      "text/plain": [
       "           cold_air_event_stacked_names         0         1\n",
       "time                                                       \n",
       "1950-01-01                  no outbreak -1.394457 -0.150151\n",
       "1950-01-02                  no outbreak -1.432673 -0.034429\n",
       "1950-01-03                            W -2.061222 -0.139534\n",
       "1950-01-04                           WC -2.294241 -0.536520\n",
       "1950-01-05                            W -2.036551 -1.235070\n",
       "...                                 ...       ...       ...\n",
       "2023-02-24                            W -2.043894  0.211574\n",
       "2023-02-25                  no outbreak -2.624887  0.515274\n",
       "2023-02-26                  no outbreak -2.539312  0.378019\n",
       "2023-02-27                  no outbreak -2.169774  0.123714\n",
       "2023-02-28                  no outbreak -2.264933  0.222891\n",
       "\n",
       "[6647 rows x 3 columns]"
      ]
     },
     "execution_count": 144,
     "metadata": {},
     "output_type": "execute_result"
    }
   ],
   "source": [
    "coldaircode_pcs_df"
   ]
  },
  {
   "cell_type": "code",
   "execution_count": 145,
   "id": "2ffc5142-3718-4030-bad9-aa5a43298462",
   "metadata": {},
   "outputs": [],
   "source": [
    "coldaircode_pcs_df_melt = coldaircode_pcs_df.melt(id_vars=['cold_air_event_stacked_names'], value_vars=[0, 1],\n",
    "                 var_name='Mode', value_name='Value')\n",
    "\n",
    "coldaircode_pcs_df_melt['Mode'] = coldaircode_pcs_df_melt['Mode'].astype(str)"
   ]
  },
  {
   "cell_type": "code",
   "execution_count": 146,
   "id": "ff23a270-8589-4766-bf26-dc4b343d872b",
   "metadata": {},
   "outputs": [],
   "source": [
    "hue_order = ['no outbreak', 'W', 'C', 'E', 'WC', 'CE', 'WCE']"
   ]
  },
  {
   "cell_type": "code",
   "execution_count": 147,
   "id": "adc1235f-3e75-4d8e-86c0-b4da4b7de793",
   "metadata": {},
   "outputs": [],
   "source": [
    "enso_coldevents = djf_indices_melt.loc[(djf_indices_melt['Indices'] == \"ENSO\") & ((djf_indices_melt['coldairevent'] != \"no outbreak\"))]['Value'].values\n",
    "enso_noevents = djf_indices_melt.loc[(djf_indices_melt['Indices'] == \"ENSO\") & ((djf_indices_melt['coldairevent'] == \"no outbreak\"))]['Value'].values"
   ]
  },
  {
   "cell_type": "code",
   "execution_count": 148,
   "id": "21e3eb50-883b-4354-964d-734a7f915e88",
   "metadata": {},
   "outputs": [
    {
     "data": {
      "text/plain": [
       "TtestResult(statistic=-3.759667210971253, pvalue=0.00017860247034672618, df=1162.1831039481597)"
      ]
     },
     "execution_count": 148,
     "metadata": {},
     "output_type": "execute_result"
    }
   ],
   "source": [
    "scipy.stats.ttest_ind(enso_coldevents, enso_noevents, equal_var=False)"
   ]
  },
  {
   "cell_type": "code",
   "execution_count": 149,
   "id": "6d68845c-ab4f-44a5-b39a-5c11e7f561fe",
   "metadata": {},
   "outputs": [
    {
     "name": "stderr",
     "output_type": "stream",
     "text": [
      "/tmp/ipykernel_25436/209058201.py:23: UserWarning: set_ticklabels() should only be used with a fixed number of ticks, i.e. after set_ticks() or using a FixedLocator.\n",
      "  axes['b)'].set_yticklabels([\"\",\"\"], size=12);\n",
      "/tmp/ipykernel_25436/209058201.py:41: UserWarning: set_ticklabels() should only be used with a fixed number of ticks, i.e. after set_ticks() or using a FixedLocator.\n",
      "  axes['c)'].set_yticklabels(['NAO', 'PNA', 'ENSO'], size=16)\n",
      "/tmp/ipykernel_25436/209058201.py:45: UserWarning: set_ticklabels() should only be used with a fixed number of ticks, i.e. after set_ticks() or using a FixedLocator.\n",
      "  axes['e)'].set_yticklabels(['EOF 1 \\n(Retraction/\\n)', 'EOF 2 \\n(Equatorward/\\n)'], size=10)\n"
     ]
    },
    {
     "data": {
      "image/png": "[encoded data removed]",
      "text/plain": [
       "<Figure size 1100x800 with 4 Axes>"
      ]
     },
     "metadata": {},
     "output_type": "display_data"
    }
   ],
   "source": [
    "fig, axes = plt.subplot_mosaic([['a)', 'b)'], ['a)', 'b)'], ['a)', 'b)'], ['c)', 'd)'], ['c)', 'e)'], ['c)', 'e)']], figsize=(11, 8))\n",
    "sns.set_context('paper')\n",
    "sns.boxplot(x='Latitude', y='Region', hue='coldairevent', hue_order=hue_order, data=djf_jetlat_df_melt.loc[~(djf_jetlat_df_melt['Region'] == 'NAm')],\\\n",
    "                 boxprops=dict(alpha=.8), ax=axes['a)'], palette=color_pallete_to_use, legend=False)\n",
    "sns.boxplot(x='Latitude', y='Region', hue='coldairevent', hue_order=hue_order, data=djf_jetspd_df_melt.loc[~(djf_jetspd_df_melt['Region'] == 'NAm')],\\\n",
    "                 boxprops=dict(alpha=.8), ax=axes['b)'], palette=color_pallete_to_use, legend=False)\n",
    "box1 = sns.boxplot(x='Value', y='Indices', hue='coldairevent', hue_order=hue_order, data=djf_indices_melt.dropna(),\\\n",
    "                 ax=axes['c)'], boxprops=dict(alpha=.8), palette=color_pallete_to_use)\n",
    "\n",
    "sns.boxplot(x='Value', y='Mode', hue='cold_air_event_stacked_names',\\\n",
    "            hue_order=hue_order,\\\n",
    "            boxprops=dict(alpha=.8), palette=color_pallete_to_use,\\\n",
    "            ax=axes['e)'], data=coldaircode_pcs_df_melt.dropna())\n",
    "\n",
    "axes['c)'].set_ylabel(\"\", size=12)\n",
    "axes['a)'].set_ylabel(\"\")\n",
    "axes['e)'].set_ylabel(\"\")\n",
    "axes['a)'].set_yticks(axes['a)'].get_yticks(), axes['a)'].get_yticklabels(), size=16)\n",
    "\n",
    "axes['a)'].set_yticklabels([\"North Pacific \\n(120$^{\\circ}$E–120$^{\\circ}$W)\",\\\n",
    "                    \"North Atlantic\\n(60$^{\\circ}$W–0$^{\\circ}$W)\"], size=12);\n",
    "axes['b)'].set_ylabel(\"\", size=15)\n",
    "axes['b)'].set_yticklabels([\"\",\"\"], size=12);\n",
    "\n",
    "# axes['c)'].set_title(\"Climate patterns\", size=19)\n",
    "# axes['c)'].set_title(\"Climate patterns\", size=19)\n",
    "box1.get_legend().remove()\n",
    "axes['d)'].remove()\n",
    "\n",
    "handles, labels = box1.get_legend_handles_labels()\n",
    "new_labels = []\n",
    "for lab in labels:\n",
    "    # new_lab = f\"{lab[0]}-{lab[1]}-{lab[2]} ({djf_cao_names.to_dataframe()['cold_air_event_stacked_names'].value_counts()[lab]})\"\n",
    "    if lab == 'no outbreak':\n",
    "        new_lab = f\"{lab} ({djf_jetlat_df_melt['coldairevent'].value_counts()['no outbreak'] // 3})\"\n",
    "    else:\n",
    "        new_lab = f\"{lab} ({clustered_count_djf[lab]})\"\n",
    "    new_labels.append(new_lab)\n",
    "axes['e)'].legend(handles, new_labels, title=\"Outbreak type (no. days since 1950)\", title_fontsize=11, fontsize=11,\\\n",
    "            ncols=3, loc=0, bbox_to_anchor=(.55, 1.4, 0.5, 0.5))\n",
    "axes['c)'].set_yticklabels(['NAO', 'PNA', 'ENSO'], size=16)\n",
    "axes['c)'].axvline(linestyle='--', color='k', alpha=0.5)\n",
    "axes['e)'].axvline(linestyle='--', color='k', alpha=0.5)\n",
    "\n",
    "axes['e)'].set_yticklabels(['EOF 1 \\n(Retraction/\\n)', 'EOF 2 \\n(Equatorward/\\n)'], size=10)\n",
    "axes['e)'].text(s='Extension', x=-5.4, y=0.31, size=10, c='grey')\n",
    "axes['e)'].text(s='Poleward', x=-5.32, y=1.31, size=10, c='grey')\n",
    "\n",
    "# axes['a)'].set_title(\"Jet latitude\", size=19)\n",
    "# axes['b)'].set_title(\"Jet speed\", size=19)\n",
    "axes['c)'].set_xlabel(\"Daily index value\", size=14)\n",
    "axes['e)'].set_xlabel(\"Standardised magnitude\", size=14)\n",
    "\n",
    "axes['a)'].set_xlabel(\"Jet latitude ($^{\\circ}$N)\", size=14)\n",
    "axes['b)'].set_xlabel(\"Jet speed ($ms^{-1}$)\", size=14)\n",
    "\n",
    "for ax in axes:\n",
    "    axes[ax].grid(axis='x')\n",
    "fig.subplots_adjust(hspace=2.5, wspace=.32)\n",
    "# fig.savefig(\"figures/jet_lat_EOF_djf_boxplot.png\", bbox_inches='tight', dpi=300)\n"
   ]
  },
  {
   "cell_type": "code",
   "execution_count": null,
   "id": "4f1e6f60-cce8-433a-907a-946194c61ebd",
   "metadata": {},
   "outputs": [],
   "source": []
  },
  {
   "cell_type": "code",
   "execution_count": null,
   "id": "5f396058-f94d-40e0-9e6e-cd20e0471d98",
   "metadata": {},
   "outputs": [],
   "source": []
  },
  {
   "cell_type": "code",
   "execution_count": null,
   "id": "36185640-1aa2-4dd0-93eb-1db1c167324a",
   "metadata": {},
   "outputs": [],
   "source": []
  },
  {
   "cell_type": "code",
   "execution_count": null,
   "id": "eead3860-fda8-4794-80ec-6778757ac365",
   "metadata": {},
   "outputs": [],
   "source": []
  }
 ],
 "metadata": {
  "kernelspec": {
   "display_name": "Python 3 (ipykernel)",
   "language": "python",
   "name": "python3"
  },
  "language_info": {
   "codemirror_mode": {
    "name": "ipython",
    "version": 3
   },
   "file_extension": ".py",
   "mimetype": "text/x-python",
   "name": "python",
   "nbconvert_exporter": "python",
   "pygments_lexer": "ipython3",
   "version": "3.11.11"
  }
 },
 "nbformat": 4,
 "nbformat_minor": 5
}
